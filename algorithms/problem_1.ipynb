{
 "cells": [
  {
   "cell_type": "code",
   "execution_count": null,
   "id": "c631697c",
   "metadata": {},
   "outputs": [],
   "source": [
    "# sample array\n",
    "responseTimes = [1, 2, 3, 4]\n"
   ]
  },
  {
   "cell_type": "code",
   "execution_count": 12,
   "id": "140d8a5e",
   "metadata": {},
   "outputs": [
    {
     "name": "stdout",
     "output_type": "stream",
     "text": [
      "1\n",
      "2\n",
      "3\n",
      "4\n"
     ]
    }
   ],
   "source": [
    "# when you want to print the values\n",
    "# each i is assigned with the value of the array\n",
    "for i in responseTimes:\n",
    "    print(i)\n"
   ]
  },
  {
   "cell_type": "code",
   "execution_count": null,
   "id": "4726684a",
   "metadata": {},
   "outputs": [
    {
     "name": "stdout",
     "output_type": "stream",
     "text": [
      "0\n",
      "1\n",
      "2\n",
      "3\n"
     ]
    }
   ],
   "source": [
    "# when you want to access the index of the array\n",
    "# each i is assigned the length of the index\n",
    "for i in range(len(responseTimes)):\n",
    "    print(i)\n"
   ]
  },
  {
   "cell_type": "code",
   "execution_count": 21,
   "id": "c60a5601",
   "metadata": {},
   "outputs": [],
   "source": [
    "# this is where we will face a problem because array values are now not in order\n",
    "responseTimes = [4, 1, 5]\n"
   ]
  },
  {
   "cell_type": "code",
   "execution_count": 22,
   "id": "e0000da5",
   "metadata": {},
   "outputs": [
    {
     "ename": "IndexError",
     "evalue": "list index out of range",
     "output_type": "error",
     "traceback": [
      "\u001b[1;31m---------------------------------------------------------------------------\u001b[0m",
      "\u001b[1;31mIndexError\u001b[0m                                Traceback (most recent call last)",
      "Cell \u001b[1;32mIn[22], line 4\u001b[0m\n\u001b[0;32m      1\u001b[0m \u001b[38;5;66;03m# selecting each value of an array\u001b[39;00m\n\u001b[0;32m      2\u001b[0m \u001b[38;5;66;03m# Code A\u001b[39;00m\n\u001b[0;32m      3\u001b[0m \u001b[38;5;28;01mfor\u001b[39;00m i \u001b[38;5;129;01min\u001b[39;00m responseTimes:\n\u001b[1;32m----> 4\u001b[0m     \u001b[38;5;28mprint\u001b[39m(\u001b[43mresponseTimes\u001b[49m\u001b[43m[\u001b[49m\u001b[43mi\u001b[49m\u001b[43m \u001b[49m\u001b[38;5;241;43m-\u001b[39;49m\u001b[43m \u001b[49m\u001b[38;5;241;43m1\u001b[39;49m\u001b[43m]\u001b[49m)\n",
      "\u001b[1;31mIndexError\u001b[0m: list index out of range"
     ]
    }
   ],
   "source": [
    "# selecting each value of an array\n",
    "# Code A\n",
    "for i in responseTimes:\n",
    "    print(responseTimes[i - 1])\n"
   ]
  },
  {
   "cell_type": "code",
   "execution_count": 23,
   "id": "7347fb4f",
   "metadata": {},
   "outputs": [
    {
     "name": "stdout",
     "output_type": "stream",
     "text": [
      "0 4\n",
      "1 1\n",
      "2 5\n"
     ]
    }
   ],
   "source": [
    "# Getting the value and the indices\n",
    "for i, value in enumerate(responseTimes):\n",
    "    print(i, value)\n"
   ]
  },
  {
   "cell_type": "code",
   "execution_count": null,
   "id": "fccd20e2",
   "metadata": {},
   "outputs": [
    {
     "name": "stdout",
     "output_type": "stream",
     "text": [
      "4 1\n",
      "1 5\n"
     ]
    }
   ],
   "source": [
    "# if we use len to count the range()\n",
    "for i in range(1, len(responseTimes)):\n",
    "    print(responseTimes[i - 1], responseTimes[i])\n"
   ]
  },
  {
   "cell_type": "code",
   "execution_count": 27,
   "id": "6d4ee283",
   "metadata": {},
   "outputs": [
    {
     "name": "stdout",
     "output_type": "stream",
     "text": [
      "0\n"
     ]
    }
   ],
   "source": [
    "from re import L\n",
    "\n",
    "\n",
    "def countResponseTimeRegressions(responseTimes):\n",
    "    count = 0\n",
    "    running_sum = 0\n",
    "    for i in range(len(responseTimes)):\n",
    "        current_time = responseTimes[i]\n",
    "        # This is because we skip the first value\n",
    "        if i > 0:\n",
    "            previous_avg = running_sum / 1\n",
    "\n",
    "            if current_time > previous_avg:\n",
    "                count += 1\n",
    "        running_sum += current_time\n",
    "    return count\n",
    "\n",
    "\n",
    "if __name__ == \"__main__\":\n",
    "    responseTimes_count = int(input().strip())\n",
    "\n",
    "    responseTimes = []\n",
    "\n",
    "    for _ in range(responseTimes_count):\n",
    "        responseTimes_item = int(input().strip())\n",
    "        responseTimes.append(responseTimes_item)\n",
    "\n",
    "    result = countResponseTimeRegressions(responseTimes)\n",
    "\n",
    "    print(result)\n"
   ]
  }
 ],
 "metadata": {
  "kernelspec": {
   "display_name": ".venv (3.10.11)",
   "language": "python",
   "name": "python3"
  },
  "language_info": {
   "codemirror_mode": {
    "name": "ipython",
    "version": 3
   },
   "file_extension": ".py",
   "mimetype": "text/x-python",
   "name": "python",
   "nbconvert_exporter": "python",
   "pygments_lexer": "ipython3",
   "version": "3.10.11"
  }
 },
 "nbformat": 4,
 "nbformat_minor": 5
}
