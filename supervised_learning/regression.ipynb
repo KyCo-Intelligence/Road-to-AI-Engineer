{
 "cells": [
  {
   "cell_type": "code",
   "execution_count": null,
   "id": "bc194a27",
   "metadata": {},
   "outputs": [],
   "source": [
    "# importing the dataset\n",
    "import pandas as pd\n",
    "\n",
    "diabetes_df = pd.read_csv(\"dataset.csv\")\n",
    "print(diabetes_df.head())"
   ]
  },
  {
   "cell_type": "code",
   "execution_count": null,
   "id": "277bb4cb",
   "metadata": {},
   "outputs": [],
   "source": [
    "\"\"\"\n",
    "Store the X and y variables\n",
    "\"\"\"\n",
    "\n",
    "X = diabetes_df.drop(\"target_column\", axis=1).values\n",
    "\n",
    "y = diabetes_df[\"target_column\"].values\n",
    "\n",
    "print(type(X), type(y))\n"
   ]
  },
  {
   "cell_type": "code",
   "execution_count": null,
   "id": "1762bc25",
   "metadata": {},
   "outputs": [],
   "source": [
    "# fit the model based on the"
   ]
  },
  {
   "cell_type": "code",
   "execution_count": null,
   "id": "68ffdc57",
   "metadata": {},
   "outputs": [],
   "source": [
    "import matplotlib as plt\n",
    "\n",
    "plt.scatter(X_bmi, y)\n",
    "plt.ylabel(\"Blood Glucose (mg/dl)\")\n",
    "plt.xlabel(\"Body Mass Index\")\n",
    "plt.show()"
   ]
  }
 ],
 "metadata": {
  "kernelspec": {
   "display_name": ".venv (3.10.11)",
   "language": "python",
   "name": "python3"
  },
  "language_info": {
   "codemirror_mode": {
    "name": "ipython",
    "version": 3
   },
   "file_extension": ".py",
   "mimetype": "text/x-python",
   "name": "python",
   "nbconvert_exporter": "python",
   "pygments_lexer": "ipython3",
   "version": "3.10.11"
  }
 },
 "nbformat": 4,
 "nbformat_minor": 5
}
